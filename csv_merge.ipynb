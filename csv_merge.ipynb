{
 "cells": [
  {
   "cell_type": "code",
   "execution_count": null,
   "id": "15e2e645",
   "metadata": {
    "vscode": {
     "languageId": "plaintext"
    }
   },
   "outputs": [],
   "source": [
    "    \"\"\"\n",
    "    指定されたフォルダー内のすべてのCSVファイルを縦に結合し、新しいCSVファイルとして保存します。\n",
    "\n",
    "    Args:\n",
    "        folder_path (str): CSVファイルが置かれているフォルダーのパス。\n",
    "        output_file_name (str): 結合後のCSVファイルの名前。デフォルトは\"merged_output.csv\"。\n",
    "    \"\"\""
   ]
  },
  {
   "cell_type": "code",
   "execution_count": null,
   "id": "faeaf0cd",
   "metadata": {
    "vscode": {
     "languageId": "plaintext"
    }
   },
   "outputs": [],
   "source": [
    "import pandas as pd\n",
    "import os\n",
    "\n",
    "def merge_csv_files(folder_path, output_file_name=\"merge.csv\"):\n",
    "    all_files = os.listdir(folder_path)\n",
    "    csv_files = [f for f in all_files if f.endswith('.csv')]\n",
    "\n",
    "    if not csv_files:\n",
    "        print(f\"'{folder_path}'内にCSVファイルが見つかりませんでした。\")\n",
    "        return\n",
    "\n",
    "    # 最初のCSVファイルを読み込み、それをベースとする\n",
    "    try:\n",
    "        first_file_path = os.path.join(folder_path, csv_files[0])\n",
    "        df = pd.read_csv(first_file_path)\n",
    "        print(f\"'{csv_files[0]}'を読み込みました。\")\n",
    "    except Exception as e:\n",
    "        print(f\"'{csv_files[0]}'の読み込み中にエラーが発生しました: {e}\")\n",
    "        return\n",
    "\n",
    "    # 残りのCSVファイルを読み込み、結合していく\n",
    "    for i, csv_file in enumerate(csv_files[1:]):\n",
    "        file_path = os.path.join(folder_path, csv_file)\n",
    "        try:\n",
    "            temp_df = pd.read_csv(file_path)\n",
    "            df = pd.concat([df, temp_df], ignore_index=True)\n",
    "            print(f\"'{csv_file}'を結合しました。\")\n",
    "        except Exception as e:\n",
    "            print(f\"'{csv_file}'の読み込みまたは結合中にエラーが発生しました: {e}\")\n",
    "\n",
    "    # 結合したデータフレームを新しいCSVファイルとして保存\n",
    "    output_path = os.path.join(folder_path, output_file_name)\n",
    "    try:\n",
    "        df.to_csv(output_path, index=False, encoding='utf-8')\n",
    "        print(f\"\\nすべてのCSVファイルを結合し、'{output_path}'として保存しました。\")\n",
    "    except Exception as e:\n",
    "        print(f\"結合したファイルの保存中にエラーが発生しました: {e}\")\n",
    "\n",
    "\n",
    "merge_csv_files(\"../../data/シーズンアニメ/weekly/\")"
   ]
  }
 ],
 "metadata": {
  "language_info": {
   "name": "python"
  }
 },
 "nbformat": 4,
 "nbformat_minor": 5
}
