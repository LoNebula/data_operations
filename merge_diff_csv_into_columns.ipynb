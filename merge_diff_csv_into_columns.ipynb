{
 "cells": [
  {
   "cell_type": "code",
   "execution_count": null,
   "id": "2c9d9e88",
   "metadata": {},
   "outputs": [],
   "source": [
    "# 異なるcsvのデータをマージするコード\n",
    "# source_dir_patternのデータをtarget_dir_patternのデータにマージする．\n",
    "# TitileをKeyにしてScore_initとMember_initをマージする．\n",
    "# 最後にデータフレームをdefualt_columnsの順番に並び替える．"
   ]
  },
  {
   "cell_type": "code",
   "execution_count": null,
   "id": "0310a0f1",
   "metadata": {},
   "outputs": [],
   "source": [
    "import pandas as pd\n",
    "import glob\n",
    "import os"
   ]
  },
  {
   "cell_type": "code",
   "execution_count": null,
   "id": "c2e05cbe",
   "metadata": {},
   "outputs": [],
   "source": [
    "source_dir_pattern = '*.csv'\n",
    "target_dir_pattern = '*.csv'"
   ]
  },
  {
   "cell_type": "code",
   "execution_count": null,
   "id": "803af87b",
   "metadata": {},
   "outputs": [],
   "source": [
    "source_files = {os.path.basename(f): f for f in glob.glob(source_dir_pattern)}\n",
    "print(f\"ソースディレクトリから {len(source_files)} 個のファイルを見つけました。\")\n",
    "\n",
    "target_files = {os.path.basename(f): f for f in glob.glob(target_dir_pattern)}\n",
    "print(f\"ターゲットディレクトリから {len(target_files)} 個のファイルを見つけました。\")\n",
    "\n",
    "common_filenames = sorted(list(set(source_files.keys()) & set(target_files.keys())))\n",
    "\n",
    "for filename in common_filenames:\n",
    "    print(f\"{filename} の処理中...\")\n",
    "\n",
    "    source_filepath = source_files[filename]\n",
    "    target_filepath = target_files[filename]\n",
    "\n",
    "    df_source = pd.read_csv(source_filepath)\n",
    "    df_target = pd.read_csv(target_filepath)\n",
    "    \n",
    "    df_source_subset = df_source[['Title', 'Score_init', 'Member_init']]\n",
    "    \n",
    "    merged_df = pd.merge(\n",
    "        df_target,\n",
    "        df_source_subset,\n",
    "        on='Title',\n",
    "        how='left',\n",
    "        suffixes=('_original', '_new')\n",
    "    )\n",
    "    \n",
    "    merged_df['Score_init'] = merged_df['Score_init_new'].fillna(merged_df['Score_init_original'])\n",
    "    merged_df['Member_init'] = merged_df['Member_init_new'].fillna(merged_df['Member_init_original'])\n",
    "    \n",
    "    df_target = merged_df.drop(columns=['Score_init_original', 'Member_init_original', 'Score_init_new', 'Member_init_new'], errors='ignore')\n",
    "    \n",
    "    default_columns = ['Year', 'Season', 'Category', 'Title', 'URL', 'Score_init', 'Member_init', \n",
    "                                       'Genre', 'Studio', 'Source', 'Demographic', \n",
    "                                       'Japanese_title', 'English_title', 'Synonyms','Adaptation', 'Adaptation_URL', 'Theme']\n",
    "    \n",
    "    df_target = df_target[default_columns]\n",
    "    \n",
    "    df_target.to_csv(target_filepath, index=False)\n",
    "\n",
    "print(\"\\n--- 処理が完了しました ---\")"
   ]
  }
 ],
 "metadata": {
  "kernelspec": {
   "display_name": "base",
   "language": "python",
   "name": "python3"
  },
  "language_info": {
   "codemirror_mode": {
    "name": "ipython",
    "version": 3
   },
   "file_extension": ".py",
   "mimetype": "text/x-python",
   "name": "python",
   "nbconvert_exporter": "python",
   "pygments_lexer": "ipython3",
   "version": "3.11.6"
  }
 },
 "nbformat": 4,
 "nbformat_minor": 5
}
